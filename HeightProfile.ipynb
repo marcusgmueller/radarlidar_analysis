{
 "cells": [
  {
   "cell_type": "markdown",
   "metadata": {},
   "source": [
    "# Height Profile"
   ]
  },
  {
   "cell_type": "markdown",
   "metadata": {},
   "source": [
    "## Imports"
   ]
  },
  {
   "cell_type": "code",
   "execution_count": 2,
   "metadata": {},
   "outputs": [],
   "source": [
    "%matplotlib inline\n",
    "from netCDF4 import Dataset, num2date\n",
    "import matplotlib.pyplot as plt\n",
    "import numpy as np\n",
    "import datetime\n",
    "import pandas as pd\n",
    "from sklearn.neighbors import NearestNeighbors\n",
    "import numpy.ma as ma\n",
    "from matplotlib.colors import ListedColormap\n",
    "from datetime import datetime, timedelta\n",
    "import matplotlib\n",
    "from pandas.plotting import register_matplotlib_converters\n",
    "register_matplotlib_converters()\n",
    "import os\n",
    "import math\n",
    "from datetime import datetime, timedelta"
   ]
  },
  {
   "cell_type": "markdown",
   "metadata": {},
   "source": [
    "## Annahmen"
   ]
  },
  {
   "cell_type": "code",
   "execution_count": 3,
   "metadata": {},
   "outputs": [],
   "source": [
    "dateBegin = datetime(2020, 7, 1)\n",
    "dateEnd = datetime(2020, 7, 31)"
   ]
  },
  {
   "cell_type": "markdown",
   "metadata": {},
   "source": [
    "## abgeleitete Variablen"
   ]
  },
  {
   "cell_type": "code",
   "execution_count": 4,
   "metadata": {},
   "outputs": [],
   "source": [
    "days = np.arange(dateBegin, dateEnd, timedelta(days=1)).astype(datetime)\n",
    "hours = np.arange(dateBegin, dateEnd, timedelta(hours=0.5)).astype(datetime)\n",
    "#print(days)\n",
    "timeseries = []\n",
    "heightTimeseries = np.zeros((len(days),417))\n",
    "heightGrid = list(range(0,15000,50))"
   ]
  },
  {
   "cell_type": "markdown",
   "metadata": {},
   "source": [
    "## Funktionsdefinitionen"
   ]
  },
  {
   "cell_type": "code",
   "execution_count": 5,
   "metadata": {},
   "outputs": [],
   "source": [
    "heightGrid = list(range(0,15000,50))\n",
    "def mergeHeight( heightList):\n",
    "    # map height\n",
    "    heightGridDf = pd.DataFrame({'height': heightGrid})\n",
    "    knn = NearestNeighbors(n_neighbors=1)\n",
    "    knn.fit(heightList)\n",
    "    return knn.kneighbors(heightGridDf, return_distance=False)"
   ]
  },
  {
   "cell_type": "code",
   "execution_count": 6,
   "metadata": {},
   "outputs": [],
   "source": [
    "gridTimeSeries = []\n",
    "for entry in hours:\n",
    "    gridTimeSeries.append(datetime.timestamp(entry))\n",
    "gridDf = pd.DataFrame({'time': gridTimeSeries})  \n",
    "def timeknn(TimeSeries):\n",
    "\n",
    "    \n",
    "    \n",
    "    \n",
    "    #Target Grid\n",
    "    targetTimeList = []\n",
    "    for entry in TimeSeries:\n",
    "        stamp = (entry-2440587.5)*86400\n",
    "        targetTimeList.append(stamp)\n",
    "    targetDf = pd.DataFrame({'time': targetTimeList})\n",
    "    \n",
    "    #KNN\n",
    "    knn = NearestNeighbors(n_neighbors=1)\n",
    "    knn.fit(targetDf)\n",
    "    matchList = knn.kneighbors(gridDf, return_distance=True)\n",
    "    \n",
    "\n",
    "    #generate result\n",
    "    resultList = []\n",
    "    for i in range(len(gridTimeSeries)):\n",
    "        iMatch = int(matchList[1][i])\n",
    "        if matchList[0][i] <= 60*14: #14 Minuten\n",
    "            resultList.append(iMatch)\n",
    "        else:\n",
    "            resultList.append(np.nan)\n",
    "    return resultList"
   ]
  },
  {
   "cell_type": "code",
   "execution_count": 7,
   "metadata": {},
   "outputs": [],
   "source": [
    "radarList = np.zeros(300)\n",
    "lidarList = np.zeros(300)\n",
    "both = np.zeros(300)\n",
    "\n",
    "def readFile(pathRadar, pathLidar):\n",
    "    #Radar\n",
    "    if os.path.exists(pathRadar):\n",
    "        datasetRadar = Dataset(pathRadar, mode='r')\n",
    "        heightRadar = datasetRadar.variables['height'][:]\n",
    "        heightRadarDf = pd.DataFrame({'height': heightRadar})\n",
    "        speedRadar = datasetRadar.variables['speed'][:]\n",
    "        speedRadar = speedRadar.filled(np.nan)\n",
    "        timeRadar = datasetRadar.variables['time'][:]\n",
    "        speedRadar = speedRadar.T\n",
    "        matchRadarIndex = mergeHeight(heightRadarDf)\n",
    "        matchRadarTimeIndex = timeknn(timeRadar)\n",
    "    #Lidar\n",
    "    if os.path.exists(pathLidar):\n",
    "        datasetLidar = Dataset(pathLidar, mode='r')\n",
    "        heightLidar = datasetLidar.variables['height'][:]\n",
    "        heightLidarDf = pd.DataFrame({'height': heightLidar})\n",
    "        speedLidar = datasetLidar.variables['speed'][:]\n",
    "        speedLidar = speedLidar.filled(np.nan)\n",
    "        timeLidar = datasetLidar.variables['time'][:]\n",
    "        matchLidarIndex = mergeHeight(heightLidarDf)\n",
    "        matchLidarTimeIndex = timeknn(timeLidar)\n",
    "    if os.path.exists(pathLidar) and os.path.exists(pathRadar):\n",
    "        for nHour in range(len(hours)):\n",
    "            for i in range(0,300):\n",
    "                iMatchRadar = matchRadarIndex[i]\n",
    "                nMatchRadar = matchRadarTimeIndex[nHour]\n",
    "                iMatchLidar = matchLidarIndex[i]\n",
    "                nMatchLidar = matchLidarTimeIndex[nHour]\n",
    "                if not math.isnan(iMatchRadar):\n",
    "                    if not math.isnan(nMatchRadar):\n",
    "                        if not math.isnan(speedRadar[iMatchRadar,nMatchRadar]):\n",
    "                            radarList[i] +=1\n",
    "                if not math.isnan(iMatchLidar):\n",
    "                    if not math.isnan(nMatchLidar):\n",
    "                        if not math.isnan(speedLidar[iMatchLidar,nMatchLidar]):\n",
    "                            lidarList[i] +=1\n",
    "                if not math.isnan(iMatchRadar) and not math.isnan(iMatchLidar):\n",
    "                    if not math.isnan(nMatchRadar) and not math.isnan(nMatchLidar):\n",
    "                        if not math.isnan(speedRadar[iMatchRadar,nMatchRadar]) and not math.isnan(speedLidar[iMatchLidar,nMatchLidar]):\n",
    "                            both[i] +=1\n"
   ]
  },
  {
   "cell_type": "markdown",
   "metadata": {},
   "source": [
    "## Funktionsaufruf"
   ]
  },
  {
   "cell_type": "code",
   "execution_count": 8,
   "metadata": {},
   "outputs": [],
   "source": [
    "for n in range(len(days)):\n",
    "    day = days[n]\n",
    "    pathRadar = '/data/obs/site/jue/joyrad35/wind_ppi/data/'+day.strftime(\"%Y\")+'/'+day.strftime(\"%m\")+'/'+day.strftime(\"%Y%m%d\")+'_joyrad35_wind_profile.nc'\n",
    "    pathLidar = '/data/obs/site/jue/wind_lidar/l1/'+day.strftime(\"%Y\")+'/'+day.strftime(\"%m\")+'/'+day.strftime(\"%d\")+'/wind_vad-36_'+day.strftime(\"%Y%m%d\")+'.nc'\n",
    "    readFile(pathRadar,pathLidar)"
   ]
  },
  {
   "cell_type": "code",
   "execution_count": 9,
   "metadata": {},
   "outputs": [],
   "source": [
    "totalList = np.zeros(417)\n",
    "totalList = radarList+lidarList-both"
   ]
  },
  {
   "cell_type": "code",
   "execution_count": 10,
   "metadata": {},
   "outputs": [],
   "source": [
    "radarList = radarList/len(hours)*100\n",
    "lidarList = lidarList/len(hours)*100\n",
    "totalList = totalList/len(hours)*100"
   ]
  },
  {
   "cell_type": "markdown",
   "metadata": {},
   "source": [
    "## Plot"
   ]
  },
  {
   "cell_type": "code",
   "execution_count": 11,
   "metadata": {},
   "outputs": [
    {
     "name": "stderr",
     "output_type": "stream",
     "text": [
      "<ipython-input-11-3a2dfd25e364>:5: MatplotlibDeprecationWarning: Adding an axes using the same arguments as a previous axes currently reuses the earlier instance.  In a future version, a new instance will always be created and returned.  Meanwhile, this warning can be suppressed, and the future behavior ensured, by passing a unique label to each axes instance.\n",
      "  axes = plt.axes()\n"
     ]
    },
    {
     "data": {
      "image/png": "[encoded data removed]",
      "text/plain": [
       "<Figure size 1440x720 with 1 Axes>"
      ]
     },
     "metadata": {
      "needs_background": "light"
     },
     "output_type": "display_data"
    }
   ],
   "source": [
    "plt.figure(figsize=(20,10))\n",
    "plt.plot(radarList,heightGrid, 'go-', label='Radar')\n",
    "plt.plot(lidarList,heightGrid, 'rs-', label='Lidar')\n",
    "plt.plot(totalList,heightGrid, 'b*-', label='Total')\n",
    "axes = plt.axes()\n",
    "axes.set_ylim([0, 12000])\n",
    "axes.set_xlim([0, 100])\n",
    "plt.xlabel(\"coverage [%]\")\n",
    "plt.ylabel(\"height [m]\")\n",
    "plt.legend()\n",
    "plt.title('data coverage by height: '+dateBegin.strftime(\"%Y-%m-%d\")+\" to \"+dateEnd.strftime(\"%Y-%m-%d\"))\n",
    "plt.show()"
   ]
  },
  {
   "cell_type": "code",
   "execution_count": null,
   "metadata": {},
   "outputs": [],
   "source": []
  },
  {
   "cell_type": "code",
   "execution_count": null,
   "metadata": {},
   "outputs": [],
   "source": []
  },
  {
   "cell_type": "code",
   "execution_count": 12,
   "metadata": {},
   "outputs": [],
   "source": [
    "from datetime import datetime\n",
    "from RadarLidarWindSpeed import RadarLidarWindSpeed\n",
    "dateBegin = datetime(2020, 7, 1)\n",
    "dateEnd = datetime(2020, 7, 31)\n",
    "analysis = RadarLidarWindSpeed(dateBegin, dateEnd)\n",
    "analysis.importDataset()\n"
   ]
  },
  {
   "cell_type": "code",
   "execution_count": 13,
   "metadata": {},
   "outputs": [
    {
     "ename": "NameError",
     "evalue": "name 'day' is not defined",
     "output_type": "error",
     "traceback": [
      "\u001b[0;31m---------------------------------------------------------------------------\u001b[0m",
      "\u001b[0;31mNameError\u001b[0m                                 Traceback (most recent call last)",
      "\u001b[0;32m<ipython-input-13-89ec9d01205e>\u001b[0m in \u001b[0;36m<module>\u001b[0;34m\u001b[0m\n\u001b[0;32m----> 1\u001b[0;31m \u001b[0mresult\u001b[0m \u001b[0;34m=\u001b[0m \u001b[0manalysis\u001b[0m\u001b[0;34m.\u001b[0m\u001b[0mgetHeightProfile\u001b[0m\u001b[0;34m(\u001b[0m\u001b[0;34m)\u001b[0m\u001b[0;34m\u001b[0m\u001b[0;34m\u001b[0m\u001b[0m\n\u001b[0m\u001b[1;32m      2\u001b[0m \u001b[0mresult\u001b[0m\u001b[0;34m.\u001b[0m\u001b[0mhead\u001b[0m\u001b[0;34m(\u001b[0m\u001b[0;34m)\u001b[0m\u001b[0;34m\u001b[0m\u001b[0;34m\u001b[0m\u001b[0m\n",
      "\u001b[0;32m~/hiwi/radarlidar_analysis/RadarLidarWindSpeed.py\u001b[0m in \u001b[0;36mgetHeightProfile\u001b[0;34m(self)\u001b[0m\n\u001b[1;32m    115\u001b[0m         \u001b[0mdailyHourList\u001b[0m \u001b[0;34m=\u001b[0m \u001b[0;34m[\u001b[0m\u001b[0;34m]\u001b[0m\u001b[0;34m\u001b[0m\u001b[0;34m\u001b[0m\u001b[0m\n\u001b[1;32m    116\u001b[0m         \u001b[0;32mfor\u001b[0m \u001b[0mhour\u001b[0m \u001b[0;32min\u001b[0m \u001b[0mself\u001b[0m\u001b[0;34m.\u001b[0m\u001b[0mhours\u001b[0m\u001b[0;34m:\u001b[0m\u001b[0;34m\u001b[0m\u001b[0;34m\u001b[0m\u001b[0m\n\u001b[0;32m--> 117\u001b[0;31m             \u001b[0;32mif\u001b[0m \u001b[0mhour\u001b[0m\u001b[0;34m.\u001b[0m\u001b[0mstrftime\u001b[0m\u001b[0;34m(\u001b[0m\u001b[0;34m\"%Y\"\u001b[0m\u001b[0;34m)\u001b[0m \u001b[0;34m==\u001b[0m \u001b[0mday\u001b[0m\u001b[0;34m.\u001b[0m\u001b[0mstrftime\u001b[0m\u001b[0;34m(\u001b[0m\u001b[0;34m\"%Y\"\u001b[0m\u001b[0;34m)\u001b[0m\u001b[0;34m:\u001b[0m\u001b[0;34m\u001b[0m\u001b[0;34m\u001b[0m\u001b[0m\n\u001b[0m\u001b[1;32m    118\u001b[0m                 \u001b[0;32mif\u001b[0m \u001b[0mhour\u001b[0m\u001b[0;34m.\u001b[0m\u001b[0mstrftime\u001b[0m\u001b[0;34m(\u001b[0m\u001b[0;34m\"%m\"\u001b[0m\u001b[0;34m)\u001b[0m \u001b[0;34m==\u001b[0m \u001b[0mday\u001b[0m\u001b[0;34m.\u001b[0m\u001b[0mstrftime\u001b[0m\u001b[0;34m(\u001b[0m\u001b[0;34m\"%m\"\u001b[0m\u001b[0;34m)\u001b[0m\u001b[0;34m:\u001b[0m\u001b[0;34m\u001b[0m\u001b[0;34m\u001b[0m\u001b[0m\n\u001b[1;32m    119\u001b[0m                     \u001b[0;32mif\u001b[0m \u001b[0mhour\u001b[0m\u001b[0;34m.\u001b[0m\u001b[0mstrftime\u001b[0m\u001b[0;34m(\u001b[0m\u001b[0;34m\"%d\"\u001b[0m\u001b[0;34m)\u001b[0m \u001b[0;34m==\u001b[0m \u001b[0mday\u001b[0m\u001b[0;34m.\u001b[0m\u001b[0mstrftime\u001b[0m\u001b[0;34m(\u001b[0m\u001b[0;34m\"%d\"\u001b[0m\u001b[0;34m)\u001b[0m\u001b[0;34m:\u001b[0m\u001b[0;34m\u001b[0m\u001b[0;34m\u001b[0m\u001b[0m\n",
      "\u001b[0;31mNameError\u001b[0m: name 'day' is not defined"
     ]
    }
   ],
   "source": [
    "result = analysis.getHeightProfile()\n",
    "result.head()"
   ]
  },
  {
   "cell_type": "code",
   "execution_count": null,
   "metadata": {},
   "outputs": [],
   "source": [
    "heightGrid = list(range(0,15000,50))"
   ]
  },
  {
   "cell_type": "code",
   "execution_count": null,
   "metadata": {},
   "outputs": [],
   "source": [
    "plt.figure(figsize=(20,10))\n",
    "plt.plot(result['radar Coverage'].tolist(),heightGrid, 'go-', label='Radar')\n",
    "plt.plot(result['lidar Coverage'].tolist(),heightGrid, 'rs-', label='Lidar')\n",
    "plt.plot(result['total Coverage'].tolist(),heightGrid, 'b*-', label='Total')\n",
    "axes = plt.axes()\n",
    "axes.set_ylim([0, 12000])\n",
    "axes.set_xlim([0, 100])\n",
    "plt.xlabel(\"coverage [%]\")\n",
    "plt.ylabel(\"height [m]\")\n",
    "plt.legend()\n",
    "plt.title('data coverage by height: '+dateBegin.strftime(\"%Y-%m-%d\")+\" to \"+dateEnd.strftime(\"%Y-%m-%d\"))\n",
    "plt.show()"
   ]
  },
  {
   "cell_type": "code",
   "execution_count": null,
   "metadata": {},
   "outputs": [],
   "source": []
  },
  {
   "cell_type": "code",
   "execution_count": null,
   "metadata": {},
   "outputs": [],
   "source": []
  },
  {
   "cell_type": "code",
   "execution_count": null,
   "metadata": {},
   "outputs": [],
   "source": []
  },
  {
   "cell_type": "code",
   "execution_count": null,
   "metadata": {},
   "outputs": [],
   "source": []
  },
  {
   "cell_type": "code",
   "execution_count": null,
   "metadata": {},
   "outputs": [],
   "source": []
  },
  {
   "cell_type": "code",
   "execution_count": null,
   "metadata": {},
   "outputs": [],
   "source": []
  },
  {
   "cell_type": "code",
   "execution_count": null,
   "metadata": {},
   "outputs": [],
   "source": []
  },
  {
   "cell_type": "code",
   "execution_count": null,
   "metadata": {},
   "outputs": [],
   "source": []
  },
  {
   "cell_type": "code",
   "execution_count": null,
   "metadata": {},
   "outputs": [],
   "source": []
  },
  {
   "cell_type": "code",
   "execution_count": null,
   "metadata": {},
   "outputs": [],
   "source": []
  },
  {
   "cell_type": "code",
   "execution_count": null,
   "metadata": {},
   "outputs": [],
   "source": []
  },
  {
   "cell_type": "code",
   "execution_count": null,
   "metadata": {},
   "outputs": [],
   "source": []
  },
  {
   "cell_type": "code",
   "execution_count": null,
   "metadata": {},
   "outputs": [],
   "source": []
  },
  {
   "cell_type": "code",
   "execution_count": null,
   "metadata": {},
   "outputs": [],
   "source": []
  },
  {
   "cell_type": "code",
   "execution_count": null,
   "metadata": {},
   "outputs": [],
   "source": []
  },
  {
   "cell_type": "code",
   "execution_count": null,
   "metadata": {},
   "outputs": [],
   "source": []
  },
  {
   "cell_type": "code",
   "execution_count": null,
   "metadata": {},
   "outputs": [],
   "source": []
  },
  {
   "cell_type": "code",
   "execution_count": null,
   "metadata": {},
   "outputs": [],
   "source": []
  },
  {
   "cell_type": "code",
   "execution_count": null,
   "metadata": {},
   "outputs": [],
   "source": []
  }
 ],
 "metadata": {
  "kernelspec": {
   "display_name": "Python 3",
   "language": "python",
   "name": "python3"
  },
  "language_info": {
   "codemirror_mode": {
    "name": "ipython",
    "version": 3
   },
   "file_extension": ".py",
   "mimetype": "text/x-python",
   "name": "python",
   "nbconvert_exporter": "python",
   "pygments_lexer": "ipython3",
   "version": "3.8.5"
  }
 },
 "nbformat": 4,
 "nbformat_minor": 4
}
