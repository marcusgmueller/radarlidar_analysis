{
 "cells": [
  {
   "cell_type": "code",
   "execution_count": 1,
   "metadata": {},
   "outputs": [],
   "source": [
    "%matplotlib inline\n",
    "from netCDF4 import Dataset, num2date\n",
    "import matplotlib.pyplot as plt\n",
    "import numpy as np\n",
    "import datetime\n",
    "import pandas as pd\n",
    "from sklearn.neighbors import NearestNeighbors\n",
    "import numpy.ma as ma\n",
    "from matplotlib.colors import ListedColormap\n",
    "from datetime import datetime, timedelta\n",
    "import matplotlib"
   ]
  },
  {
   "cell_type": "code",
   "execution_count": 38,
   "metadata": {},
   "outputs": [],
   "source": [
    "dateBegin = datetime(2020, 1, 2)\n",
    "dateEnd = dateBegin + timedelta(days=1)\n",
    "hours = np.arange(dateBegin, dateEnd, timedelta(hours=1)).astype(datetime)"
   ]
  },
  {
   "cell_type": "code",
   "execution_count": 39,
   "metadata": {},
   "outputs": [],
   "source": [
    "day = hours[0]\n",
    "radar = Dataset('/data/obs/site/jue/joyrad35/wind_ppi/data/'+day.strftime(\"%Y\")+'/'+day.strftime(\"%m\")+'/'+day.strftime(\"%Y%m%d\")+'_joyrad35_wind_profile.nc', mode='r')\n",
    "lidar = Dataset('/data/obs/site/jue/wind_lidar/l1/'+day.strftime(\"%Y\")+'/'+day.strftime(\"%m\")+'/'+day.strftime(\"%d\")+'/wind_vad-36_'+day.strftime(\"%Y%m%d\")+'.nc', mode='r')"
   ]
  },
  {
   "cell_type": "code",
   "execution_count": 40,
   "metadata": {},
   "outputs": [],
   "source": [
    "# Radar\n",
    "time_radar = radar.variables['time'][:]\n",
    "time_var = radar.variables['time']\n",
    "time_radar = (time_radar-2440587.5)*86400\n",
    "#time = num2date(time, 'seconds since 1970-01-01T00:00:00', 'julian')\n",
    "height_radar = radar.variables['height'][:]\n",
    "speed_radar = radar.variables['speed'][:]\n",
    "speed_radar_delta = radar.variables['delta_speed'][:]\n",
    "#wind_vec = radar.variables['wind_vec'][:]\n",
    "# Lidar\n",
    "time_lidar = lidar.variables['time'][:]\n",
    "time_var = lidar.variables['time']\n",
    "time_lidar = (time_lidar-2440587.5)*86400\n",
    "#time = num2date(time, 'seconds since 1970-01-01T00:00:00', 'julian')\n",
    "height_lidar = lidar.variables['height'][:]\n",
    "speed_lidar = lidar.variables['speed'][:]\n",
    "speed_lidar_delta = lidar.variables['delta_speed'][:]\n",
    "#wind_vec = lidar.variables['wind_vec'][:]"
   ]
  },
  {
   "cell_type": "markdown",
   "metadata": {},
   "source": [
    "## map time"
   ]
  },
  {
   "cell_type": "code",
   "execution_count": 41,
   "metadata": {},
   "outputs": [],
   "source": [
    "gridTimeSeries = []\n",
    "for entry in hours:\n",
    "    gridTimeSeries.append(datetime.timestamp(entry))\n",
    "gridDf = pd.DataFrame({'time': gridTimeSeries})  \n",
    "def timeknn(TimeSeries):\n",
    "\n",
    "    \n",
    "    \n",
    "    \n",
    "    #Target Grid\n",
    "    #targetTimeList = []\n",
    "    #for entry in TimeSeries:\n",
    "    #    stamp = (entry-2440587.5)*86400\n",
    "    #    targetTimeList.append(stamp)\n",
    "    targetDf = pd.DataFrame({'time': TimeSeries})\n",
    "    \n",
    "    #KNN\n",
    "    knn = NearestNeighbors(n_neighbors=1)\n",
    "    knn.fit(targetDf)\n",
    "    matchList = knn.kneighbors(gridDf, return_distance=True)\n",
    "    \n",
    "\n",
    "    #generate result\n",
    "    resultList = []\n",
    "    for i in range(len(gridTimeSeries)):\n",
    "        iMatch = int(matchList[1][i])\n",
    "        if matchList[0][i] <= 60*29: #14 Minuten\n",
    "            resultList.append(iMatch)\n",
    "        else:\n",
    "        #    print(\"nan\")\n",
    "            resultList.append(np.nan)\n",
    "        #resultList.append(iMatch)\n",
    "    return resultList\n",
    "\n",
    "radarTimeMatchIndex = timeknn(time_radar)\n",
    "lidarTimeMatchIndex = timeknn(time_lidar)\n"
   ]
  },
  {
   "cell_type": "markdown",
   "metadata": {},
   "source": [
    "## map heights"
   ]
  },
  {
   "cell_type": "code",
   "execution_count": 42,
   "metadata": {},
   "outputs": [],
   "source": [
    "heightGrid = list(range(0,15000,50))\n",
    "heightGridDf = pd.DataFrame({'height': heightGrid})\n",
    "heightLidarDf = pd.DataFrame({'height': height_lidar})\n",
    "heightRadarDf = pd.DataFrame({'height': height_radar})\n",
    "knn = NearestNeighbors(n_neighbors=1)\n",
    "#Radar\n",
    "knn.fit(heightRadarDf)\n",
    "radarMatchIndex = knn.kneighbors(heightGridDf, return_distance=False)\n",
    "#Lidar\n",
    "knn.fit(heightLidarDf)\n",
    "lidarMatchIndex = knn.kneighbors(heightGridDf, return_distance=False)"
   ]
  },
  {
   "cell_type": "markdown",
   "metadata": {},
   "source": [
    "## check availability"
   ]
  },
  {
   "cell_type": "code",
   "execution_count": 43,
   "metadata": {},
   "outputs": [],
   "source": [
    "# create result array\n",
    "availability = np.zeros((len(hours),300))\n",
    "# no data = 0\n",
    "# only radar = 1\n",
    "# only lidar = 2\n",
    "# both = 3\n",
    "for n in range(len(hours)):\n",
    "    nRadar = radarTimeMatchIndex[n]\n",
    "    nLidar = lidarTimeMatchIndex[n]\n",
    "    for i in range(0,300):\n",
    "        iRadar = radarMatchIndex[i]\n",
    "        iLidar = lidarMatchIndex[i]\n",
    "        if not np.isnan(nRadar):\n",
    "            if not ma.is_masked(speed_radar[nRadar,iRadar]):\n",
    "                availability[n][i]=1\n",
    "        if not np.isnan(nLidar):\n",
    "            if not ma.is_masked(speed_lidar[iLidar,nLidar]):\n",
    "                if availability[n,i] == 1:\n",
    "                    availability[n,i]=3\n",
    "                else:\n",
    "                    availability[n,i]=2"
   ]
  },
  {
   "cell_type": "markdown",
   "metadata": {},
   "source": [
    "## Difference"
   ]
  },
  {
   "cell_type": "code",
   "execution_count": 44,
   "metadata": {},
   "outputs": [],
   "source": [
    "difference = np.zeros((len(hours),300))\n",
    "speed_radar_fill = np.ma.filled(speed_radar, fill_value=0.)\n",
    "speed_radar_delta_fill = np.ma.filled(speed_radar_delta, fill_value=0.)\n",
    "speed_lidar_fill = np.ma.filled(speed_lidar, fill_value=0.)\n",
    "speed_lidar_delta_fill = np.ma.filled(speed_lidar_delta, fill_value=0.)\n",
    "\n",
    "for n in range(len(hours)):\n",
    "    nRadar = radarTimeMatchIndex[n]\n",
    "    nLidar = lidarTimeMatchIndex[n]\n",
    "    for i in range(0,300):\n",
    "        iRadar = radarMatchIndex[i]\n",
    "        iLidar = lidarMatchIndex[i]\n",
    "        if not np.isnan(nRadar) and not np.isnan(nLidar):\n",
    "            if not ((speed_lidar_delta_fill[iLidar,nLidar]) == 0 or (speed_radar_delta_fill[nRadar,iRadar]) == 0):\n",
    "                difference[n][i]= speed_radar_fill[nRadar,iRadar]-speed_lidar_fill[iLidar,nLidar]\n",
    "            else:\n",
    "                difference[n][i] =float(\"nan\")\n",
    "        else:\n",
    "            difference[n][i] =float(\"nan\")"
   ]
  },
  {
   "cell_type": "markdown",
   "metadata": {},
   "source": [
    "## data fusion"
   ]
  },
  {
   "cell_type": "code",
   "execution_count": 45,
   "metadata": {},
   "outputs": [],
   "source": [
    "#methode 2\n",
    "speed_radar_fill = np.ma.filled(speed_radar, fill_value=0.)\n",
    "speed_radar_delta_fill = np.ma.filled(speed_radar_delta, fill_value=0.)\n",
    "speed_lidar_fill = np.ma.filled(speed_lidar, fill_value=0.)\n",
    "speed_lidar_delta_fill = np.ma.filled(speed_lidar_delta, fill_value=0.)\n",
    "\n",
    "\n",
    "result = np.zeros((24,300))\n",
    "\n",
    "\n",
    "\n",
    "\n",
    "\n",
    "\n",
    "\n",
    "for n in range(0,24):\n",
    "    nRadar = radarTimeMatchIndex[n]\n",
    "    nLidar = lidarTimeMatchIndex[n]\n",
    "    for i in range(0,300):\n",
    "        iRadar = radarMatchIndex[i]\n",
    "        iLidar = lidarMatchIndex[i]\n",
    "        if not np.isnan(nRadar) and not np.isnan(nLidar):\n",
    "            if not ((speed_lidar_delta_fill[iLidar,nLidar]+speed_radar_delta_fill[nRadar,iRadar]) == 0):\n",
    "                result[n][i]=(speed_radar_fill[nRadar,iRadar]*speed_radar_delta_fill[nRadar,iRadar]+speed_lidar_fill[iLidar,nLidar]*speed_lidar_delta_fill[iLidar,nLidar])/(speed_lidar_delta_fill[iLidar,nLidar]+speed_radar_delta_fill[nRadar,iRadar]);\n",
    "            else:\n",
    "                result[n][i] =float(\"nan\")\n",
    "        else:\n",
    "            result[n][i] =float(\"nan\")"
   ]
  },
  {
   "cell_type": "markdown",
   "metadata": {},
   "source": [
    "## Plot"
   ]
  },
  {
   "cell_type": "code",
   "execution_count": 46,
   "metadata": {},
   "outputs": [],
   "source": [
    "# map lidar\n",
    "speed_result = np.zeros((len(hours),300))\n",
    "for n in range(len(hours)):\n",
    "    nLidar = lidarTimeMatchIndex[n]\n",
    "    for i in range(0,300):\n",
    "        iLidar = lidarMatchIndex[i]\n",
    "        if not np.isnan(nLidar):\n",
    "            if np.isnan(speed_lidar[iLidar,nLidar]):\n",
    "                speed_result[n][i] = np.nan\n",
    "            else:\n",
    "                speed_result[n][i] = speed_lidar[iLidar,nLidar]\n",
    "        else:\n",
    "            speed_result[n][i] = np.nan\n",
    "speed_lidar = speed_result"
   ]
  },
  {
   "cell_type": "code",
   "execution_count": 47,
   "metadata": {},
   "outputs": [],
   "source": [
    "#map radar\n",
    "speed_result = np.zeros((len(hours),300))\n",
    "for n in range(len(hours)):\n",
    "    nRadar = radarTimeMatchIndex[n]\n",
    "    for i in range(0,300):\n",
    "        iRadar = radarMatchIndex[i]\n",
    "        if not np.isnan(nRadar):\n",
    "            if np.isnan(speed_radar.T[iRadar,nRadar]):\n",
    "                speed_result[n][i] = np.nan\n",
    "            else:\n",
    "                speed_result[n][i] = speed_radar.T[iRadar,nRadar]\n",
    "        else:\n",
    "            speed_result[n][i] = np.nan\n",
    "speed_radar = speed_result"
   ]
  },
  {
   "cell_type": "code",
   "execution_count": 48,
   "metadata": {},
   "outputs": [
    {
     "data": {
      "image/png": "[encoded data removed]",
      "text/plain": [
       "<Figure size 720x720 with 8 Axes>"
      ]
     },
     "metadata": {
      "needs_background": "light"
     },
     "output_type": "display_data"
    }
   ],
   "source": [
    "maxHeight = 15000\n",
    "fig, axes = plt.subplots(nrows=5, ncols=1, figsize=(10, 10), sharex=True, sharey=False)\n",
    "fig.suptitle(day.strftime(\"%Y-%m-%d\"), fontsize=16)\n",
    "\n",
    "\n",
    "# Radar\n",
    "axes[0].set_title(\"Radar \")\n",
    "axes[0].axis([0, 24, 0, maxHeight])\n",
    "X,Y = np.meshgrid(range(24), heightGrid)\n",
    "im = axes[0].pcolor(X,Y,speed_radar.T,cmap='viridis', vmin=0, vmax=32)\n",
    "axes[0].set_ylabel(\"height AGL [m]\")\n",
    "\n",
    "# Lidar\n",
    "axes[1].set_title(\"Lidar \")\n",
    "axes[1].axis([0, 24, 0, maxHeight])\n",
    "X,Y = np.meshgrid(range(24), heightGrid)\n",
    "im = axes[1].pcolor(X,Y,speed_lidar.T,cmap='viridis', vmin=0, vmax=32)\n",
    "axes[1].set_ylabel(\"height AGL [m]\")\n",
    "\n",
    "# Availability\n",
    "col_dict={1:\"blue\", 2:\"red\", 13:\"orange\", 7:\"green\"}\n",
    "cm = ListedColormap([col_dict[x] for x in col_dict.keys()])\n",
    "X,Y = np.meshgrid(range(24), heightGrid)\n",
    "im2 = axes[2].pcolor(X,Y,availability.T,cmap=cm, vmin=0, vmax=3)\n",
    "axes[2].set_title(\"data availability \")\n",
    "axes[2].axis([0, 24, 0, maxHeight])\n",
    "axes[2].set_ylabel(\"height AGL [m]\")\n",
    "\n",
    "# Difference\n",
    "X,Y = np.meshgrid(range(24), heightGrid)\n",
    "im3 = axes[3].pcolor(X,Y,difference.T,cmap='bwr', vmin=-10, vmax=10)\n",
    "axes[3].axis([0, 24, 0, maxHeight])\n",
    "axes[3].set_title(\"Difference: Radar - Lidar \")\n",
    "axes[3].set_ylabel(\"height AGL [m]\")\n",
    "\n",
    "# Fusion\n",
    "X,Y = np.meshgrid(range(24), heightGrid)\n",
    "im = axes[4].pcolor(X,Y,result.T,cmap='viridis', vmin=0, vmax=32)\n",
    "axes[4].axis([0, 24, 0, maxHeight])\n",
    "axes[4].set_title(\"Radar/Lidar fusion \")\n",
    "axes[4].set_xlabel(\"Time UTC [h]\")\n",
    "axes[4].set_ylabel(\"height AGL [m]\")\n",
    "\n",
    "# cbar speed\n",
    "cb_ax = fig.add_axes([1, 0.1, 0.02, 0.8])\n",
    "cbar = fig.colorbar(im, cax=cb_ax)\n",
    "cbar.set_label('Horizontal wind speed [m/s]')\n",
    "\n",
    "# cbar availability\n",
    "cb_ax2 = fig.add_axes([1.2, 0.1, 0.02, 0.8])\n",
    "cbar2 = fig.colorbar(im2, cax=cb_ax2, ticks=[0,1,2,3])\n",
    "cbar2.set_ticks([0,1,2,3])\n",
    "cbar2.set_ticklabels([\"no data\", \"only Radar\", \"only Lidar\",\"both\"])\n",
    "cbar2.set_label('data availability')\n",
    "\n",
    "# cbar difference\n",
    "cb_ax3 = fig.add_axes([1.1, 0.1, 0.02, 0.8])\n",
    "cbar3 = fig.colorbar(im3, cax=cb_ax3)\n",
    "cbar3.set_label('Difference [m/s]')\n",
    "\n",
    "plt.show()"
   ]
  },
  {
   "cell_type": "code",
   "execution_count": null,
   "metadata": {},
   "outputs": [],
   "source": []
  },
  {
   "cell_type": "code",
   "execution_count": null,
   "metadata": {},
   "outputs": [],
   "source": []
  }
 ],
 "metadata": {
  "kernelspec": {
   "display_name": "Python 3",
   "language": "python",
   "name": "python3"
  },
  "language_info": {
   "codemirror_mode": {
    "name": "ipython",
    "version": 3
   },
   "file_extension": ".py",
   "mimetype": "text/x-python",
   "name": "python",
   "nbconvert_exporter": "python",
   "pygments_lexer": "ipython3",
   "version": "3.8.5"
  }
 },
 "nbformat": 4,
 "nbformat_minor": 4
}
