{
 "cells": [
  {
   "cell_type": "code",
   "execution_count": null,
   "metadata": {},
   "outputs": [],
   "source": []
  },
  {
   "cell_type": "code",
   "execution_count": null,
   "metadata": {},
   "outputs": [],
   "source": []
  },
  {
   "cell_type": "code",
   "execution_count": 67,
   "metadata": {},
   "outputs": [
    {
     "data": {
      "text/html": [
       "<div>\n",
       "<style scoped>\n",
       "    .dataframe tbody tr th:only-of-type {\n",
       "        vertical-align: middle;\n",
       "    }\n",
       "\n",
       "    .dataframe tbody tr th {\n",
       "        vertical-align: top;\n",
       "    }\n",
       "\n",
       "    .dataframe thead th {\n",
       "        text-align: right;\n",
       "    }\n",
       "</style>\n",
       "<table border=\"1\" class=\"dataframe\">\n",
       "  <thead>\n",
       "    <tr style=\"text-align: right;\">\n",
       "      <th></th>\n",
       "      <th>speedRadar</th>\n",
       "      <th>speedDeltaRadar</th>\n",
       "      <th>speedLidar</th>\n",
       "      <th>speedDeltaLidar</th>\n",
       "      <th>speedDifference</th>\n",
       "    </tr>\n",
       "  </thead>\n",
       "  <tbody>\n",
       "    <tr>\n",
       "      <th>count</th>\n",
       "      <td>2541.000000</td>\n",
       "      <td>2541.000000</td>\n",
       "      <td>733.000000</td>\n",
       "      <td>713.000000</td>\n",
       "      <td>630.000000</td>\n",
       "    </tr>\n",
       "    <tr>\n",
       "      <th>mean</th>\n",
       "      <td>20.083285</td>\n",
       "      <td>0.746339</td>\n",
       "      <td>13.962719</td>\n",
       "      <td>3.562213</td>\n",
       "      <td>0.571886</td>\n",
       "    </tr>\n",
       "    <tr>\n",
       "      <th>std</th>\n",
       "      <td>6.441933</td>\n",
       "      <td>0.719057</td>\n",
       "      <td>8.545382</td>\n",
       "      <td>10.687348</td>\n",
       "      <td>7.496045</td>\n",
       "    </tr>\n",
       "    <tr>\n",
       "      <th>min</th>\n",
       "      <td>0.925144</td>\n",
       "      <td>0.075688</td>\n",
       "      <td>0.030730</td>\n",
       "      <td>0.167703</td>\n",
       "      <td>-78.971903</td>\n",
       "    </tr>\n",
       "    <tr>\n",
       "      <th>25%</th>\n",
       "      <td>15.400117</td>\n",
       "      <td>0.345808</td>\n",
       "      <td>10.127332</td>\n",
       "      <td>0.573388</td>\n",
       "      <td>-0.624226</td>\n",
       "    </tr>\n",
       "    <tr>\n",
       "      <th>50%</th>\n",
       "      <td>19.583597</td>\n",
       "      <td>0.550535</td>\n",
       "      <td>13.317697</td>\n",
       "      <td>0.883322</td>\n",
       "      <td>0.855354</td>\n",
       "    </tr>\n",
       "    <tr>\n",
       "      <th>75%</th>\n",
       "      <td>24.772346</td>\n",
       "      <td>0.871073</td>\n",
       "      <td>16.151018</td>\n",
       "      <td>1.847799</td>\n",
       "      <td>2.544924</td>\n",
       "    </tr>\n",
       "    <tr>\n",
       "      <th>max</th>\n",
       "      <td>41.570164</td>\n",
       "      <td>7.766552</td>\n",
       "      <td>87.337029</td>\n",
       "      <td>128.814209</td>\n",
       "      <td>20.548322</td>\n",
       "    </tr>\n",
       "  </tbody>\n",
       "</table>\n",
       "</div>"
      ],
      "text/plain": [
       "        speedRadar  speedDeltaRadar  speedLidar  speedDeltaLidar  \\\n",
       "count  2541.000000      2541.000000  733.000000       713.000000   \n",
       "mean     20.083285         0.746339   13.962719         3.562213   \n",
       "std       6.441933         0.719057    8.545382        10.687348   \n",
       "min       0.925144         0.075688    0.030730         0.167703   \n",
       "25%      15.400117         0.345808   10.127332         0.573388   \n",
       "50%      19.583597         0.550535   13.317697         0.883322   \n",
       "75%      24.772346         0.871073   16.151018         1.847799   \n",
       "max      41.570164         7.766552   87.337029       128.814209   \n",
       "\n",
       "       speedDifference  \n",
       "count       630.000000  \n",
       "mean          0.571886  \n",
       "std           7.496045  \n",
       "min         -78.971903  \n",
       "25%          -0.624226  \n",
       "50%           0.855354  \n",
       "75%           2.544924  \n",
       "max          20.548322  "
      ]
     },
     "execution_count": 67,
     "metadata": {},
     "output_type": "execute_result"
    }
   ],
   "source": [
    "dateBegin = datetime(2020, 7, 1)\n",
    "dateEnd = datetime(2020, 7, 2)\n",
    "analysis = RadarLidarWindSpeed(dateBegin, dateEnd)\n",
    "analysis.importDataset()\n",
    "analysis.calculateDifferences()\n",
    "analysis.dataframe.describe()"
   ]
  },
  {
   "cell_type": "code",
   "execution_count": 70,
   "metadata": {},
   "outputs": [
    {
     "name": "stderr",
     "output_type": "stream",
     "text": [
      "/usr/lib/python3/dist-packages/numpy/lib/histograms.py:839: RuntimeWarning: invalid value encountered in greater_equal\n",
      "  keep = (tmp_a >= first_edge)\n",
      "/usr/lib/python3/dist-packages/numpy/lib/histograms.py:840: RuntimeWarning: invalid value encountered in less_equal\n",
      "  keep &= (tmp_a <= last_edge)\n"
     ]
    },
    {
     "data": {
      "text/plain": [
       "(array([  1.,   1.,   0.,   4.,   3.,   4.,   4., 278., 313.,  22.]),\n",
       " array([-78.97190285, -69.01988039, -59.06785793, -49.11583548,\n",
       "        -39.16381302, -29.21179056, -19.2597681 ,  -9.30774565,\n",
       "          0.64427681,  10.59629927,  20.54832172]),\n",
       " <a list of 10 Patch objects>)"
      ]
     },
     "execution_count": 70,
     "metadata": {},
     "output_type": "execute_result"
    },
    {
     "data": {
      "image/png": "[encoded data removed]",
      "text/plain": [
       "<Figure size 432x288 with 1 Axes>"
      ]
     },
     "metadata": {
      "needs_background": "light"
     },
     "output_type": "display_data"
    }
   ],
   "source": [
    "diffs = analysis.dataframe['speedDifference'].tolist()\n",
    "plt.hist(diffs)"
   ]
  },
  {
   "cell_type": "code",
   "execution_count": null,
   "metadata": {},
   "outputs": [],
   "source": []
  },
  {
   "cell_type": "code",
   "execution_count": null,
   "metadata": {},
   "outputs": [],
   "source": []
  },
  {
   "cell_type": "code",
   "execution_count": null,
   "metadata": {},
   "outputs": [],
   "source": []
  },
  {
   "cell_type": "code",
   "execution_count": null,
   "metadata": {},
   "outputs": [],
   "source": []
  }
 ],
 "metadata": {
  "kernelspec": {
   "display_name": "Python 3",
   "language": "python",
   "name": "python3"
  },
  "language_info": {
   "codemirror_mode": {
    "name": "ipython",
    "version": 3
   },
   "file_extension": ".py",
   "mimetype": "text/x-python",
   "name": "python",
   "nbconvert_exporter": "python",
   "pygments_lexer": "ipython3",
   "version": "3.8.5"
  }
 },
 "nbformat": 4,
 "nbformat_minor": 4
}
