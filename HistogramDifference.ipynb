{
 "cells": [
  {
   "cell_type": "markdown",
   "metadata": {},
   "source": [
    "# Histogramm: Radar -Lidar"
   ]
  },
  {
   "cell_type": "markdown",
   "metadata": {},
   "source": [
    "## Imports"
   ]
  },
  {
   "cell_type": "code",
   "execution_count": 12,
   "metadata": {},
   "outputs": [],
   "source": [
    "%matplotlib inline\n",
    "from netCDF4 import Dataset, num2date\n",
    "import matplotlib.pyplot as plt\n",
    "import numpy as np\n",
    "import datetime\n",
    "import pandas as pd\n",
    "from sklearn.neighbors import NearestNeighbors\n",
    "import numpy.ma as ma\n",
    "from matplotlib.colors import ListedColormap\n",
    "from datetime import datetime, timedelta\n",
    "import matplotlib\n",
    "from pandas.plotting import register_matplotlib_converters\n",
    "register_matplotlib_converters()\n",
    "import os\n",
    "import math\n",
    "from datetime import datetime, timedelta"
   ]
  },
  {
   "cell_type": "markdown",
   "metadata": {},
   "source": [
    "## Annahmen"
   ]
  },
  {
   "cell_type": "code",
   "execution_count": 10,
   "metadata": {},
   "outputs": [],
   "source": [
    "dateBegin = datetime(2020, 1, 1)\n",
    "dateEnd = datetime(2020, 1, 31)\n",
    "minHeight = 5000\n",
    "maxHeight = 15000"
   ]
  },
  {
   "cell_type": "markdown",
   "metadata": {},
   "source": [
    "## abgeleitete Variablen"
   ]
  },
  {
   "cell_type": "code",
   "execution_count": 11,
   "metadata": {},
   "outputs": [],
   "source": [
    "days = np.arange(dateBegin, dateEnd, timedelta(days=1)).astype(datetime)\n",
    "hours = np.arange(dateBegin, dateEnd, timedelta(hours=0.5)).astype(datetime)\n",
    "\n",
    "minHeightIndex = int(minHeight/50)\n",
    "maxHeightIndex = int(maxHeight/50)\n",
    "steps = (maxHeightIndex - minHeightIndex)\n",
    "heightGrid = list(range(0,15000,50))\n",
    "heightGridDf = pd.DataFrame({'height': heightGrid})"
   ]
  },
  {
   "cell_type": "markdown",
   "metadata": {},
   "source": [
    "## Funktionsdefinition"
   ]
  },
  {
   "cell_type": "code",
   "execution_count": 4,
   "metadata": {},
   "outputs": [],
   "source": [
    "def mergeHeight(heightList):\n",
    "    # map height\n",
    "    knn = NearestNeighbors(n_neighbors=1)\n",
    "    knn.fit(heightList)\n",
    "    return knn.kneighbors(heightGridDf, return_distance=False)"
   ]
  },
  {
   "cell_type": "code",
   "execution_count": 5,
   "metadata": {},
   "outputs": [],
   "source": [
    "gridTimeSeries = []\n",
    "for entry in hours:\n",
    "    gridTimeSeries.append(datetime.timestamp(entry))\n",
    "gridDf = pd.DataFrame({'time': gridTimeSeries})  \n",
    "def timeknn(TimeSeries):\n",
    "    #Target Grid\n",
    "    targetTimeList = []\n",
    "    for entry in TimeSeries:\n",
    "        stamp = (entry-2440587.5)*86400\n",
    "        targetTimeList.append(stamp)\n",
    "    targetDf = pd.DataFrame({'time': targetTimeList})\n",
    "    \n",
    "    #KNN\n",
    "    knn = NearestNeighbors(n_neighbors=1)\n",
    "    knn.fit(targetDf)\n",
    "    matchList = knn.kneighbors(gridDf, return_distance=True)\n",
    "    \n",
    "\n",
    "    #generate result\n",
    "    resultList = []\n",
    "    for i in range(len(gridTimeSeries)):\n",
    "        iMatch = int(matchList[1][i])\n",
    "        if matchList[0][i] <= 60*14: #14 Minuten\n",
    "            resultList.append(iMatch)\n",
    "        else:\n",
    "            resultList.append(np.nan)\n",
    "    return resultList"
   ]
  },
  {
   "cell_type": "code",
   "execution_count": 6,
   "metadata": {},
   "outputs": [],
   "source": [
    "difference = []\n",
    "def readFile(n, pathRadar, pathLidar):\n",
    "    #Radar\n",
    "    if os.path.exists(pathRadar):\n",
    "        datasetRadar = Dataset(pathRadar, mode='r')\n",
    "        heightRadar = datasetRadar.variables['height'][:]\n",
    "        heightRadarDf = pd.DataFrame({'height': heightRadar})\n",
    "        speedRadar = datasetRadar.variables['speed'][:]\n",
    "        speedRadar = speedRadar.filled(np.nan)\n",
    "        timeRadar = datasetRadar.variables['time'][:]\n",
    "        speedRadar = speedRadar.T\n",
    "        matchRadarIndex = mergeHeight(heightRadarDf)\n",
    "        matchRadarTimeIndex = timeknn(timeRadar)\n",
    "    #Lidar\n",
    "    if os.path.exists(pathLidar):\n",
    "        datasetLidar = Dataset(pathLidar, mode='r')\n",
    "        heightLidar = datasetLidar.variables['height'][:]\n",
    "        heightLidarDf = pd.DataFrame({'height': heightLidar})\n",
    "        speedLidar = datasetLidar.variables['speed'][:]\n",
    "        speedLidar = speedLidar.filled(np.nan)\n",
    "        timeLidar = datasetLidar.variables['time'][:]\n",
    "        matchLidarIndex = mergeHeight(heightLidarDf)\n",
    "        matchLidarTimeIndex = timeknn(timeLidar)\n",
    "    if os.path.exists(pathLidar) and os.path.exists(pathRadar):\n",
    "        for nHour in range(len(hours)):\n",
    "            for i in range(minHeightIndex,maxHeightIndex):\n",
    "                iMatchRadar = matchRadarIndex[i]\n",
    "                nMatchRadar = matchRadarTimeIndex[nHour]\n",
    "                iMatchLidar = matchLidarIndex[i]\n",
    "                nMatchLidar = matchLidarTimeIndex[nHour]\n",
    "                if not math.isnan(iMatchRadar) and not math.isnan(iMatchLidar):\n",
    "                    if not math.isnan(nMatchRadar) and not math.isnan(nMatchLidar):\n",
    "                        if not math.isnan(speedRadar[iMatchRadar,nMatchRadar]) and not math.isnan(speedLidar[iMatchLidar,nMatchLidar]):\n",
    "                            difference.append(float(speedRadar[iMatchRadar,nMatchRadar]-speedLidar[iMatchLidar,nMatchLidar]))"
   ]
  },
  {
   "cell_type": "markdown",
   "metadata": {},
   "source": [
    "## Funktionsaufruf"
   ]
  },
  {
   "cell_type": "code",
   "execution_count": 7,
   "metadata": {},
   "outputs": [],
   "source": [
    "for n in range(len(days)):\n",
    "    day = days[n]\n",
    "    pathRadar = '/data/obs/site/jue/joyrad35/wind_ppi/data/'+day.strftime(\"%Y\")+'/'+day.strftime(\"%m\")+'/'+day.strftime(\"%Y%m%d\")+'_joyrad35_wind_profile.nc'\n",
    "    pathLidar = '/data/obs/site/jue/wind_lidar/l1/'+day.strftime(\"%Y\")+'/'+day.strftime(\"%m\")+'/'+day.strftime(\"%d\")+'/wind_vad-36_'+day.strftime(\"%Y%m%d\")+'.nc'\n",
    "    readFile(n,pathRadar, pathLidar)"
   ]
  },
  {
   "cell_type": "code",
   "execution_count": 8,
   "metadata": {},
   "outputs": [],
   "source": [
    "array = np.array(difference)\n",
    "np.clip(array,-20,20,out=array)\n",
    "mu = array.mean()\n",
    "median = np.median(array)\n",
    "sigma = np.std(array)"
   ]
  },
  {
   "cell_type": "markdown",
   "metadata": {},
   "source": [
    "## Plot"
   ]
  },
  {
   "cell_type": "code",
   "execution_count": 9,
   "metadata": {},
   "outputs": [
    {
     "data": {
      "image/png": "[encoded data removed]",
      "text/plain": [
       "<Figure size 720x360 with 1 Axes>"
      ]
     },
     "metadata": {
      "needs_background": "light"
     },
     "output_type": "display_data"
    }
   ],
   "source": [
    "textstr = '\\n'.join((\n",
    "    r'$\\mu=%.2f$' % (mu, ),\n",
    "    r'$\\mathrm{median}=%.2f$' % (median, ),\n",
    "    r'$\\sigma=%.2f$' % (sigma, )))\n",
    "fig, ax = plt.subplots(figsize=(10, 5))\n",
    "\n",
    "plt.title(\"Histogramm Abweichung: \"+dateBegin.strftime(\"%Y-%m-%d\")+\" - \"+dateEnd.strftime(\"%Y-%m-%d\")+\", \"+str(minHeight)+\"m - \"+str(maxHeight)+\"m\")\n",
    "plt.xlabel(\"Differenz: Radar - Lidar [m/s]\")\n",
    "plt.ylabel(\"Häufigkeit\")\n",
    "ax.hist(difference, range=[-20,20],bins=100)\n",
    "\n",
    "# place a text box in upper left in axes coords\n",
    "props = dict(boxstyle='round', facecolor='wheat', alpha=0.5)\n",
    "ax.text(0.05, 0.95, textstr, transform=ax.transAxes, fontsize=14, verticalalignment='top', bbox=props)\n",
    "\n",
    "plt.savefig('histogramm_'+str(minHeight)+'_'+str(maxHeight)+'.png')\n",
    "plt.show()"
   ]
  }
 ],
 "metadata": {
  "kernelspec": {
   "display_name": "Python 3",
   "language": "python",
   "name": "python3"
  },
  "language_info": {
   "codemirror_mode": {
    "name": "ipython",
    "version": 3
   },
   "file_extension": ".py",
   "mimetype": "text/x-python",
   "name": "python",
   "nbconvert_exporter": "python",
   "pygments_lexer": "ipython3",
   "version": "3.8.5"
  }
 },
 "nbformat": 4,
 "nbformat_minor": 4
}
